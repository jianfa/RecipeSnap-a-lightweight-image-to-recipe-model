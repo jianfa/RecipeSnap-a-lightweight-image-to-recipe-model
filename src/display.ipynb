{
 "cells": [
  {
   "cell_type": "code",
   "execution_count": null,
   "metadata": {},
   "outputs": [],
   "source": [
    "import pickle\n",
    "import os\n",
    "import random\n",
    "from utils.metrics import *\n",
    "from PIL import ImageOps, Image\n",
    "from torchvision import transforms\n",
    "from matplotlib import pyplot as plt\n",
    "from wordcloud import WordCloud\n",
    "import nltk\n",
    "nltk.download('stopwords')\n",
    "from nltk.corpus import stopwords\n",
    "\n",
    "# words to ignore in wordclouds\n",
    "stopwords = set(stopwords.words('english'))\n",
    "\n",
    "# image resizing for display\n",
    "tfs = transforms.Compose([transforms.Resize(256), transforms.CenterCrop(256)])\n"
   ]
  },
  {
   "cell_type": "markdown",
   "metadata": {},
   "source": [
    "You must run ```test.py``` for the selected model before using this notebook."
   ]
  },
  {
   "cell_type": "code",
   "execution_count": null,
   "metadata": {},
   "outputs": [],
   "source": [
    "# Update with your paths and model names\n",
    "DATASET_PATH = ''\n",
    "SAVE_PATH = ''\n",
    "MODEL_NAME = ''\n",
    "SPLIT = 'test'\n",
    "EMBEDDINGS_FILE = os.path.join(SAVE_PATH, MODEL_NAME, 'feats_' + SPLIT + '.pkl')\n"
   ]
  },
  {
   "cell_type": "code",
   "execution_count": null,
   "metadata": {},
   "outputs": [],
   "source": [
    "# load dataset (for display purposes)\n",
    "dataset = pickle.load(open(os.path.join(DATASET_PATH, 'traindata', SPLIT + '.pkl'), 'rb'))"
   ]
  },
  {
   "cell_type": "code",
   "execution_count": null,
   "metadata": {},
   "outputs": [],
   "source": [
    "def load_data_single(path):\n",
    "    with open(path, 'rb') as f:\n",
    "        imfeats = pickle.load(f)\n",
    "        recipefeats = pickle.load(f)\n",
    "        ids = pickle.load(f)\n",
    "    return {'imfeats': imfeats, 'recipefeats': recipefeats, 'ids': ids}\n",
    "# load embeddings\n",
    "info = load_data_single(EMBEDDINGS_FILE)"
   ]
  },
  {
   "cell_type": "code",
   "execution_count": null,
   "metadata": {},
   "outputs": [],
   "source": [
    "# pick random sample\n",
    "k = 10000\n",
    "sub_ids = random.sample(range(0, len(info['imfeats'])), k)"
   ]
  },
  {
   "cell_type": "code",
   "execution_count": null,
   "metadata": {
    "scrolled": false
   },
   "outputs": [],
   "source": [
    "# Compute rankings and store results for all selected samples\n",
    "\n",
    "max_k = 10\n",
    "\n",
    "queries = info['imfeats'][sub_ids,:]\n",
    "database = info['recipefeats'][sub_ids,:]\n",
    "ids = np.array(list(info['ids']))[sub_ids]\n",
    "    \n",
    "dists = pairwise_distances(queries, database, metric='cosine')\n",
    "retrieved_idxs_recs = np.argpartition(dists, range(max_k), axis=-1)[:, :max_k]\n",
    "    \n",
    "dists = pairwise_distances(database, queries, metric='cosine')\n",
    "retrieved_idxs_ims = np.argpartition(dists, range(max_k), axis=-1)[:, :max_k]\n",
    "        \n",
    "metrics_glob_rec, metrics_dict_ind_rec = compute_metrics(queries, database, metric='cosine',\n",
    "                                                         recall_klist=(1, 5, 10), return_raw=True)\n",
    "print(\"img2rec\", metrics_glob_rec)\n",
    "metrics_glob_img, metrics_dict_ind_img = compute_metrics(database, queries, metric='cosine',\n",
    "                                                             recall_klist=(1, 5, 10), return_raw=True)\n",
    "print(\"rec2im\", metrics_glob_img)\n",
    "\n",
    "ind_medr_rec = metrics_dict_ind_rec['medr']\n",
    "ind_medr_img = metrics_dict_ind_img['medr']\n",
    "ranks = ind_medr_rec\n",
    "    \n",
    "display_results = {}\n",
    "for i, recipe_id in enumerate(ids):\n",
    "        \n",
    "    retrieved_recipes = [ids[idx] for idx in retrieved_idxs_recs[i]]\n",
    "    retrieved_images = [ids[idx] for idx in retrieved_idxs_ims[i]]\n",
    "        \n",
    "    display_results[recipe_id] = {'true_recipe_id': recipe_id,\n",
    "                                  'retrieved_recipe_ids': retrieved_recipes,\n",
    "                                  'retrieved_image_ids': retrieved_images,\n",
    "                                  'rank_true_recipe': ind_medr_rec[i],\n",
    "                                  'rank_true_image': ind_medr_img[i]}"
   ]
  },
  {
   "cell_type": "markdown",
   "metadata": {},
   "source": [
    "Note that the above retrieval metrics will differ from those obtained when running eval.py on the same embeddings. In this case, metrics are computed on a single random sample of 10k."
   ]
  },
  {
   "cell_type": "code",
   "execution_count": null,
   "metadata": {},
   "outputs": [],
   "source": [
    "# display utilities\n",
    "\n",
    "def load_image(image_path):\n",
    "    return tfs(Image.open(image_path).convert('RGB'))\n",
    "\n",
    "def plot_image(dataset_sample):\n",
    "    plt.imshow(get_image(dataset_sample))\n",
    "    plt.axis('off')\n",
    "    plt.show()\n",
    "\n",
    "def get_image(dataset_sample):\n",
    "    img_name = dataset_sample['images'][0]\n",
    "    img_name = '/'.join(img_name[:4])+'/'+img_name\n",
    "    return load_image(os.path.join('/efs/datasets/Recipe1M', 'test', img_name))\n",
    "\n",
    "def get_wordcloud(dataset_sample):\n",
    "    recipe_text = ''\n",
    "    recipe_text+=dataset_sample['title'].lower()\n",
    "    recipe_text+='\\n'.join(dataset_sample['ingredients']).lower()\n",
    "    recipe_text+='\\n'.join(dataset_sample['instructions']).lower()\n",
    "    wordcloud = WordCloud(width=256, random_state = 1234, stopwords=stopwords, \n",
    "               height=256, background_color=\"white\").generate(recipe_text)\n",
    "    return Image.fromarray(wordcloud.to_array())\n",
    "\n",
    "def plot_ranking(query, elements, dataset, rank, mode = 'im2recipe'):\n",
    "    height = 20\n",
    "    N = len(elements) + 1\n",
    "    fig, ax = plt.subplots(1,N, figsize=(height*N,height), gridspec_kw = {'wspace':0, 'hspace':0})\n",
    "    if mode == 'im2recipe':\n",
    "        img = get_image(dataset[query])\n",
    "    else: \n",
    "        img = get_wordcloud(dataset[query])\n",
    "    \n",
    "    img_with_border = ImageOps.expand(img, border=10,fill='blue')\n",
    "    ax[0].imshow(img_with_border)\n",
    "    ax[0].axis('off')\n",
    "    \n",
    "    for i, element in enumerate(elements):\n",
    "        if mode == 'recipe2im':\n",
    "            img = get_image(dataset[element])\n",
    "        else:\n",
    "            img = get_wordcloud(dataset[element])\n",
    "        if i+1 == rank:\n",
    "            img = ImageOps.expand(img, border=10,fill='green')\n",
    "        \n",
    "        ax[i+1].imshow(img)\n",
    "        ax[i+1].axis('off')\n",
    "    plt.show()"
   ]
  },
  {
   "cell_type": "code",
   "execution_count": null,
   "metadata": {
    "scrolled": false
   },
   "outputs": [],
   "source": [
    "# Display rankings\n",
    "\n",
    "# min and max rank values to control which samples to display\n",
    "min_rank = 0\n",
    "max_rank = 1000\n",
    "\n",
    "# ranking size\n",
    "K = 10\n",
    "\n",
    "# max number of samples to display ( -1 for all samples)\n",
    "max_n_samples = 5\n",
    "n = 0\n",
    "\n",
    "for k, element in display_results.items():\n",
    "    \n",
    "    if n == max_n_samples:\n",
    "        break\n",
    "    \n",
    "    if max_rank > element['rank_true_recipe'] > min_rank:\n",
    "        print(\"Image2Recipe, rank: {}\".format(element['rank_true_recipe']))\n",
    "        plot_ranking(element['true_recipe_id'], \n",
    "                     element['retrieved_recipe_ids'][0:K],\n",
    "                     dataset,\n",
    "                     element['rank_true_recipe'],\n",
    "                     mode='im2recipe')\n",
    "        \n",
    "        print(\"Recipe2Image, rank: {}\".format(element['rank_true_image']))\n",
    "        plot_ranking(element['true_recipe_id'], \n",
    "                     element['retrieved_image_ids'][0:K],\n",
    "                     dataset,\n",
    "                     element['rank_true_image'],\n",
    "                     mode='recipe2im')\n",
    "        print(\"=\"*10)\n",
    "        n += 1"
   ]
  },
  {
   "cell_type": "code",
   "execution_count": null,
   "metadata": {},
   "outputs": [],
   "source": []
  }
 ],
 "metadata": {
  "kernelspec": {
   "display_name": "Environment (conda_pytorch_p36)",
   "language": "python",
   "name": "conda_pytorch_p36"
  },
  "language_info": {
   "codemirror_mode": {
    "name": "ipython",
    "version": 3
   },
   "file_extension": ".py",
   "mimetype": "text/x-python",
   "name": "python",
   "nbconvert_exporter": "python",
   "pygments_lexer": "ipython3",
   "version": "3.6.7"
  }
 },
 "nbformat": 4,
 "nbformat_minor": 2
}
